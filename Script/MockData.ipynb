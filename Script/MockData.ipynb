{
 "cells": [
  {
   "cell_type": "markdown",
   "id": "bb44c638-b059-42ad-af8e-8d5ab957cf10",
   "metadata": {},
   "source": [
    "# Waste Management Simulation Dataset Generation\n",
    "\n",
    "This script simulates data for waste management analysis across different locations and vendors over a 4-month period.\n",
    "\n",
    "---"
   ]
  },
  {
   "cell_type": "code",
   "execution_count": null,
   "id": "56e999d6-1594-4bc2-9564-7344e8f4ab87",
   "metadata": {},
   "outputs": [],
   "source": [
    "import pandas as pd\n",
    "import numpy as np"
   ]
  },
  {
   "cell_type": "markdown",
   "id": "9ddefb0f-ecbe-4a7e-a247-0f1cc1d9c992",
   "metadata": {},
   "source": [
    "## 📍 Settings and Initialization\n",
    "\n",
    "---"
   ]
  },
  {
   "cell_type": "code",
   "execution_count": null,
   "id": "6940e8fd-4575-4147-82bb-cc3d1a2c7ca0",
   "metadata": {},
   "outputs": [],
   "source": [
    "np.random.seed(42)"
   ]
  },
  {
   "cell_type": "code",
   "execution_count": null,
   "id": "8b2b6e90-fb14-4242-94c3-7a163b515b70",
   "metadata": {},
   "outputs": [],
   "source": [
    "# Sample locations and vendors\n",
    "locations = ['Edmonton North', 'Calgary Central', 'Toronto West', 'Vancouver East']\n",
    "vendors = ['GreenCycle Ltd.', 'EcoHaul Inc.', 'SmartWaste Co.']\n",
    "materials = ['Paper', 'Plastic', 'Organics']\n",
    "\n",
    "# Generate date range\n",
    "dates = pd.date_range(start='2024-01-01', end='2024-04-30', freq='W-MON')"
   ]
  },
  {
   "cell_type": "markdown",
   "id": "ff29934e-d26e-4463-94e6-96b33eafcefd",
   "metadata": {},
   "source": [
    "# 🗑️ Waste Management Mock Data Generator\n",
    "\n",
    "---\n",
    "\n",
    "## 1. ♻️ Waste Collection Summary\n",
    "\n",
    "## 2. 💵 Cost Optimization Tracker\n",
    "\n",
    "## 3. 🔁 Recycling Performance\n",
    "\n",
    "## 4. 📊 Vendor Scorecard\n",
    "\n",
    "## 5. 🌍 Sustainability KPIs\n"
   ]
  },
  {
   "cell_type": "code",
   "execution_count": null,
   "id": "b914658d-366c-4898-880a-20aa67879034",
   "metadata": {},
   "outputs": [],
   "source": [
    "# Generate Waste Collection Summary mock data\n",
    "waste_data = []\n",
    "for date in dates:\n",
    "    for location in locations:\n",
    "        vendor = np.random.choice(vendors)\n",
    "        total_waste = np.random.uniform(1.0, 5.0)  # tons\n",
    "        bin_fill = np.random.uniform(60, 100)  # percent\n",
    "        pickups = np.random.randint(1, 4)  # per week\n",
    "        waste_data.append([date, location, vendor, round(total_waste, 2), round(bin_fill, 1), pickups])\n",
    "\n",
    "waste_df = pd.DataFrame(waste_data, columns=[\n",
    "    'Date', 'Location', 'Vendor', 'TotalWasteTons', 'BinFillPercent', 'WeeklyPickups'\n",
    "])\n",
    "\n",
    "# Generate Cost Optimization Tracker mock data\n",
    "cost_data = []\n",
    "for date in dates:\n",
    "    for location in locations:\n",
    "        vendor = np.random.choice(vendors)\n",
    "        cost = np.random.uniform(200, 600)\n",
    "        penalties = np.random.choice([0, 25, 50], p=[0.8, 0.15, 0.05])\n",
    "        tons = np.random.uniform(1.0, 5.0)\n",
    "        cost_data.append([date, location, vendor, round(cost, 2), penalties, round(cost / tons, 2)])\n",
    "\n",
    "cost_df = pd.DataFrame(cost_data, columns=[\n",
    "    'Date', 'Location', 'Vendor', 'ServiceCost', 'MissedPickupPenalty', 'CostPerTon'\n",
    "])\n",
    "\n",
    "# Generate Recycling Performance mock data\n",
    "recycling_data = []\n",
    "for date in dates:\n",
    "    for location in locations:\n",
    "        total_waste = np.random.uniform(1.0, 5.0)\n",
    "        recycled = total_waste * np.random.uniform(0.3, 0.7)\n",
    "        goal = 0.5 * total_waste\n",
    "        breakdown = np.random.dirichlet(np.ones(3), size=1)[0] * recycled\n",
    "        recycling_data.append([date, location, round(recycled, 2), round(goal, 2),\n",
    "                               round(breakdown[0], 2), round(breakdown[1], 2), round(breakdown[2], 2)])\n",
    "\n",
    "recycling_df = pd.DataFrame(recycling_data, columns=[\n",
    "    'Date', 'Location', 'RecycledTons', 'GoalTons', 'Paper', 'Plastic', 'Organics'\n",
    "])\n",
    "\n",
    "# Generate Vendor Scorecard mock data\n",
    "vendor_data = []\n",
    "for vendor in vendors:\n",
    "    on_time = np.random.uniform(85, 99)\n",
    "    response_time = np.random.uniform(2, 24)  # hours\n",
    "    satisfaction = np.random.uniform(3.5, 5.0)  # out of 5\n",
    "    vendor_data.append([vendor, round(on_time, 1), round(response_time, 1), round(satisfaction, 2)])\n",
    "\n",
    "vendor_df = pd.DataFrame(vendor_data, columns=[\n",
    "    'Vendor', 'OnTimePickupRate', 'AvgResponseTimeHrs', 'CustomerSatisfaction'\n",
    "])\n",
    "\n",
    "# Generate Sustainability KPIs mock data\n",
    "sustainability_data = []\n",
    "for date in dates:\n",
    "    for location in locations:\n",
    "        recycled = np.random.uniform(1.0, 4.0)\n",
    "        carbon_savings = recycled * 2.1  # mock factor\n",
    "        diversion_rate = np.random.uniform(30, 70)\n",
    "        opportunities = np.random.randint(0, 4)\n",
    "        sustainability_data.append([date, location, round(carbon_savings, 2), round(diversion_rate, 1), opportunities])\n",
    "\n",
    "sustainability_df = pd.DataFrame(sustainability_data, columns=[\n",
    "    'Date', 'Location', 'CarbonReductionTons', 'DiversionRatePercent', 'WasteReductionOpportunities'\n",
    "])"
   ]
  },
  {
   "cell_type": "markdown",
   "id": "7ac9fddd-1852-41fd-83bd-c3688ea90559",
   "metadata": {},
   "source": [
    "# 🗑️ Saving the Mock Datasets to CSV Files\r\n",
    "\r\n",
    "---"
   ]
  },
  {
   "cell_type": "code",
   "execution_count": 9,
   "id": "0665de64-64cd-4ded-b118-781eaa6e45ba",
   "metadata": {},
   "outputs": [],
   "source": [
    "# Saving the mock datasets to CSV files\n",
    "waste_df.to_csv(\"waste_collection_summary.csv\", index=False)\n",
    "cost_df.to_csv(\"cost_optimization_tracker.csv\", index=False)\n",
    "recycling_df.to_csv(\"recycling_performance.csv\", index=False)\n",
    "vendor_df.to_csv(\"vendor_scorecard.csv\", index=False)\n",
    "sustainability_df.to_csv(\"sustainability_kpis.csv\", index=False)"
   ]
  }
 ],
 "metadata": {
  "kernelspec": {
   "display_name": "Python 3 (ipykernel)",
   "language": "python",
   "name": "python3"
  },
  "language_info": {
   "codemirror_mode": {
    "name": "ipython",
    "version": 3
   },
   "file_extension": ".py",
   "mimetype": "text/x-python",
   "name": "python",
   "nbconvert_exporter": "python",
   "pygments_lexer": "ipython3",
   "version": "3.11.7"
  }
 },
 "nbformat": 4,
 "nbformat_minor": 5
}
